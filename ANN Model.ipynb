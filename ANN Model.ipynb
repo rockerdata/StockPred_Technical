{
 "cells": [
  {
   "cell_type": "code",
   "execution_count": 2,
   "metadata": {},
   "outputs": [
    {
     "name": "stderr",
     "output_type": "stream",
     "text": [
      "Using TensorFlow backend.\n"
     ]
    }
   ],
   "source": [
    "import keras\n",
    "import pandas as pd\n",
    "import numpy as np\n",
    "import seaborn as sns"
   ]
  },
  {
   "cell_type": "code",
   "execution_count": 3,
   "metadata": {},
   "outputs": [],
   "source": [
    "stocks = pd.read_csv('Stock Market/output.csv')"
   ]
  },
  {
   "cell_type": "code",
   "execution_count": 4,
   "metadata": {},
   "outputs": [
    {
     "data": {
      "text/html": [
       "<div>\n",
       "<style>\n",
       "    .dataframe thead tr:only-child th {\n",
       "        text-align: right;\n",
       "    }\n",
       "\n",
       "    .dataframe thead th {\n",
       "        text-align: left;\n",
       "    }\n",
       "\n",
       "    .dataframe tbody tr th {\n",
       "        vertical-align: top;\n",
       "    }\n",
       "</style>\n",
       "<table border=\"1\" class=\"dataframe\">\n",
       "  <thead>\n",
       "    <tr style=\"text-align: right;\">\n",
       "      <th></th>\n",
       "      <th>Unnamed: 0</th>\n",
       "      <th>rsi14</th>\n",
       "      <th>rsi9</th>\n",
       "      <th>rsi5</th>\n",
       "      <th>macd12</th>\n",
       "      <th>macdhist12</th>\n",
       "      <th>macd6</th>\n",
       "      <th>macdhist6</th>\n",
       "      <th>ema10</th>\n",
       "      <th>ema20</th>\n",
       "      <th>...</th>\n",
       "      <th>arronup7</th>\n",
       "      <th>arrondown13</th>\n",
       "      <th>arronup13</th>\n",
       "      <th>bbindic</th>\n",
       "      <th>close</th>\n",
       "      <th>high</th>\n",
       "      <th>low</th>\n",
       "      <th>open</th>\n",
       "      <th>volume</th>\n",
       "      <th>sym</th>\n",
       "    </tr>\n",
       "  </thead>\n",
       "  <tbody>\n",
       "    <tr>\n",
       "      <th>0</th>\n",
       "      <td>2008-02-06 03:45:00</td>\n",
       "      <td>37.087456</td>\n",
       "      <td>35.387474</td>\n",
       "      <td>34.769877</td>\n",
       "      <td>-11.918355</td>\n",
       "      <td>-0.720816</td>\n",
       "      <td>-6.017640</td>\n",
       "      <td>0.963975</td>\n",
       "      <td>150.694345</td>\n",
       "      <td>160.687525</td>\n",
       "      <td>...</td>\n",
       "      <td>71.428571</td>\n",
       "      <td>15.384615</td>\n",
       "      <td>0.000000</td>\n",
       "      <td>0.281697</td>\n",
       "      <td>143.510803</td>\n",
       "      <td>146.603168</td>\n",
       "      <td>138.623438</td>\n",
       "      <td>142.711058</td>\n",
       "      <td>966300.0</td>\n",
       "      <td>ADANIPORTS.NS</td>\n",
       "    </tr>\n",
       "    <tr>\n",
       "      <th>1</th>\n",
       "      <td>2008-02-07 03:45:00</td>\n",
       "      <td>36.233642</td>\n",
       "      <td>34.008069</td>\n",
       "      <td>31.696320</td>\n",
       "      <td>-11.922653</td>\n",
       "      <td>-0.580091</td>\n",
       "      <td>-6.047231</td>\n",
       "      <td>0.560630</td>\n",
       "      <td>149.024724</td>\n",
       "      <td>158.861230</td>\n",
       "      <td>...</td>\n",
       "      <td>57.142857</td>\n",
       "      <td>7.692308</td>\n",
       "      <td>0.000000</td>\n",
       "      <td>0.273414</td>\n",
       "      <td>141.511429</td>\n",
       "      <td>147.509558</td>\n",
       "      <td>140.756103</td>\n",
       "      <td>146.620947</td>\n",
       "      <td>1064660.0</td>\n",
       "      <td>ADANIPORTS.NS</td>\n",
       "    </tr>\n",
       "    <tr>\n",
       "      <th>2</th>\n",
       "      <td>2008-02-08 03:45:00</td>\n",
       "      <td>35.284951</td>\n",
       "      <td>32.464190</td>\n",
       "      <td>28.304606</td>\n",
       "      <td>-11.963115</td>\n",
       "      <td>-0.496443</td>\n",
       "      <td>-6.128271</td>\n",
       "      <td>0.287754</td>\n",
       "      <td>147.264444</td>\n",
       "      <td>157.002368</td>\n",
       "      <td>...</td>\n",
       "      <td>42.857143</td>\n",
       "      <td>0.000000</td>\n",
       "      <td>15.384615</td>\n",
       "      <td>0.260618</td>\n",
       "      <td>139.343185</td>\n",
       "      <td>147.509528</td>\n",
       "      <td>135.984235</td>\n",
       "      <td>143.955082</td>\n",
       "      <td>1425125.0</td>\n",
       "      <td>ADANIPORTS.NS</td>\n",
       "    </tr>\n",
       "    <tr>\n",
       "      <th>3</th>\n",
       "      <td>2008-02-11 03:45:00</td>\n",
       "      <td>30.200191</td>\n",
       "      <td>24.877477</td>\n",
       "      <td>15.736142</td>\n",
       "      <td>-12.891299</td>\n",
       "      <td>-1.139701</td>\n",
       "      <td>-7.777336</td>\n",
       "      <td>-0.816787</td>\n",
       "      <td>143.470202</td>\n",
       "      <td>154.087487</td>\n",
       "      <td>...</td>\n",
       "      <td>28.571429</td>\n",
       "      <td>100.000000</td>\n",
       "      <td>7.692308</td>\n",
       "      <td>0.102090</td>\n",
       "      <td>126.396111</td>\n",
       "      <td>139.512012</td>\n",
       "      <td>123.517004</td>\n",
       "      <td>139.512012</td>\n",
       "      <td>1119775.0</td>\n",
       "      <td>ADANIPORTS.NS</td>\n",
       "    </tr>\n",
       "    <tr>\n",
       "      <th>4</th>\n",
       "      <td>2008-02-12 03:45:00</td>\n",
       "      <td>28.391773</td>\n",
       "      <td>22.454518</td>\n",
       "      <td>12.816413</td>\n",
       "      <td>-13.895499</td>\n",
       "      <td>-1.715121</td>\n",
       "      <td>-9.228652</td>\n",
       "      <td>-1.360862</td>\n",
       "      <td>139.399660</td>\n",
       "      <td>150.944128</td>\n",
       "      <td>...</td>\n",
       "      <td>14.285714</td>\n",
       "      <td>100.000000</td>\n",
       "      <td>0.000000</td>\n",
       "      <td>0.052893</td>\n",
       "      <td>121.082222</td>\n",
       "      <td>130.617035</td>\n",
       "      <td>116.514759</td>\n",
       "      <td>128.848693</td>\n",
       "      <td>1517045.0</td>\n",
       "      <td>ADANIPORTS.NS</td>\n",
       "    </tr>\n",
       "  </tbody>\n",
       "</table>\n",
       "<p>5 rows × 24 columns</p>\n",
       "</div>"
      ],
      "text/plain": [
       "            Unnamed: 0      rsi14       rsi9       rsi5     macd12  \\\n",
       "0  2008-02-06 03:45:00  37.087456  35.387474  34.769877 -11.918355   \n",
       "1  2008-02-07 03:45:00  36.233642  34.008069  31.696320 -11.922653   \n",
       "2  2008-02-08 03:45:00  35.284951  32.464190  28.304606 -11.963115   \n",
       "3  2008-02-11 03:45:00  30.200191  24.877477  15.736142 -12.891299   \n",
       "4  2008-02-12 03:45:00  28.391773  22.454518  12.816413 -13.895499   \n",
       "\n",
       "   macdhist12     macd6  macdhist6       ema10       ema20      ...        \\\n",
       "0   -0.720816 -6.017640   0.963975  150.694345  160.687525      ...         \n",
       "1   -0.580091 -6.047231   0.560630  149.024724  158.861230      ...         \n",
       "2   -0.496443 -6.128271   0.287754  147.264444  157.002368      ...         \n",
       "3   -1.139701 -7.777336  -0.816787  143.470202  154.087487      ...         \n",
       "4   -1.715121 -9.228652  -1.360862  139.399660  150.944128      ...         \n",
       "\n",
       "    arronup7  arrondown13  arronup13   bbindic       close        high  \\\n",
       "0  71.428571    15.384615   0.000000  0.281697  143.510803  146.603168   \n",
       "1  57.142857     7.692308   0.000000  0.273414  141.511429  147.509558   \n",
       "2  42.857143     0.000000  15.384615  0.260618  139.343185  147.509528   \n",
       "3  28.571429   100.000000   7.692308  0.102090  126.396111  139.512012   \n",
       "4  14.285714   100.000000   0.000000  0.052893  121.082222  130.617035   \n",
       "\n",
       "          low        open     volume            sym  \n",
       "0  138.623438  142.711058   966300.0  ADANIPORTS.NS  \n",
       "1  140.756103  146.620947  1064660.0  ADANIPORTS.NS  \n",
       "2  135.984235  143.955082  1425125.0  ADANIPORTS.NS  \n",
       "3  123.517004  139.512012  1119775.0  ADANIPORTS.NS  \n",
       "4  116.514759  128.848693  1517045.0  ADANIPORTS.NS  \n",
       "\n",
       "[5 rows x 24 columns]"
      ]
     },
     "execution_count": 4,
     "metadata": {},
     "output_type": "execute_result"
    }
   ],
   "source": [
    "stocks.head()"
   ]
  },
  {
   "cell_type": "code",
   "execution_count": 5,
   "metadata": {},
   "outputs": [],
   "source": [
    "from sklearn.model_selection import train_test_split"
   ]
  },
  {
   "cell_type": "code",
   "execution_count": 7,
   "metadata": {},
   "outputs": [],
   "source": [
    "x = stocks.drop('returns', axis=1).iloc[1:,1:]\n",
    "y = stocks.returns"
   ]
  },
  {
   "cell_type": "code",
   "execution_count": 55,
   "metadata": {},
   "outputs": [
    {
     "name": "stderr",
     "output_type": "stream",
     "text": [
      "/home/rushim245/anaconda2/envs/DeepLearning/lib/python3.6/site-packages/pandas/core/indexing.py:517: SettingWithCopyWarning: \n",
      "A value is trying to be set on a copy of a slice from a DataFrame.\n",
      "Try using .loc[row_indexer,col_indexer] = value instead\n",
      "\n",
      "See the caveats in the documentation: http://pandas.pydata.org/pandas-docs/stable/indexing.html#indexing-view-versus-copy\n",
      "  self.obj[item] = s\n"
     ]
    }
   ],
   "source": [
    "trainx = np.array([])\n",
    "trainy = np.array([])\n",
    "testx = np.array([])\n",
    "testy = np.array([])\n",
    "syms = np.unique(stocks.sym.values)\n",
    "for symbol in syms:\n",
    "    data = stocks[stocks.sym == symbol]\n",
    "    data.loc[:,'returns'] = data.close.pct_change()\n",
    "    x = data.drop(['sym','Unnamed: 0','returns'], axis=1).values\n",
    "    y = data.returns.values\n",
    "    if trainx.shape[0]==0:\n",
    "        trainx = x[1:2001]\n",
    "        trainy = y[1:2001]\n",
    "        testx = x[2001:]\n",
    "        testy = y[2001:]\n",
    "    else:\n",
    "        trainx = np.concatenate((trainx, x[1:2001]), axis=0)\n",
    "        trainy = np.concatenate((trainy, y[1:2001]), axis=0)\n",
    "        testx = np.concatenate((testx, x[2001:]), axis=0)\n",
    "        testy = np.concatenate((testy, y[2001:]), axis=0)"
   ]
  },
  {
   "cell_type": "code",
   "execution_count": 59,
   "metadata": {},
   "outputs": [
    {
     "data": {
      "text/plain": [
       "(20611,)"
      ]
     },
     "execution_count": 59,
     "metadata": {},
     "output_type": "execute_result"
    }
   ],
   "source": [
    "testy.shape"
   ]
  },
  {
   "cell_type": "code",
   "execution_count": 29,
   "metadata": {},
   "outputs": [],
   "source": [
    "trainx = np.array([])\n",
    "dat = data.drop(['returns','sym','Unnamed: 0'], axis=1).loc[1:,:]"
   ]
  },
  {
   "cell_type": "code",
   "execution_count": 41,
   "metadata": {},
   "outputs": [
    {
     "data": {
      "text/plain": [
       "(2396, 22)"
      ]
     },
     "execution_count": 41,
     "metadata": {},
     "output_type": "execute_result"
    }
   ],
   "source": [
    "dat.values.shape"
   ]
  },
  {
   "cell_type": "code",
   "execution_count": 8,
   "metadata": {},
   "outputs": [],
   "source": [
    "trainx, testx, trainy, testy = train_test_split(x,y, test_size=0.2)"
   ]
  },
  {
   "cell_type": "code",
   "execution_count": 9,
   "metadata": {},
   "outputs": [],
   "source": [
    "from sklearn.preprocessing import StandardScaler\n",
    "sc = StandardScaler()\n",
    "trainx = sc.fit_transform(trainx)\n",
    "testx = sc.transform(testx)"
   ]
  },
  {
   "cell_type": "code",
   "execution_count": 10,
   "metadata": {},
   "outputs": [
    {
     "data": {
      "text/plain": [
       "(94645, 22)"
      ]
     },
     "execution_count": 10,
     "metadata": {},
     "output_type": "execute_result"
    }
   ],
   "source": [
    "trainx.shape"
   ]
  },
  {
   "cell_type": "code",
   "execution_count": 11,
   "metadata": {},
   "outputs": [],
   "source": [
    "from keras.models import Sequential\n",
    "from keras.layers import Dense\n",
    "from keras.layers import Dropout"
   ]
  },
  {
   "cell_type": "code",
   "execution_count": 19,
   "metadata": {},
   "outputs": [],
   "source": [
    "def build_classifier(optimizer):\n",
    "    # Initializing the layers\n",
    "    classifier = Sequential()\n",
    "    \n",
    "    # Adding input layer and hidden layer\n",
    "    classifier.add(Dense(512, input_dim=22, kernel_initializer='uniform', activation='relu' ))\n",
    "    classifier.add(Dropout(0.25))\n",
    "\n",
    "    # Adding second hidden layer\n",
    "    classifier.add(Dense(256, kernel_initializer='uniform', activation='relu' ))\n",
    "    classifier.add(Dropout(0.20))\n",
    "\n",
    "    # Adding second hidden layer\n",
    "    classifier.add(Dense(124, kernel_initializer='uniform', activation='relu' ))\n",
    "    classifier.add(Dropout(0.20))\n",
    "\n",
    "    # Adding second hidden layer\n",
    "    classifier.add(Dense(62, kernel_initializer='uniform', activation='relu' ))\n",
    "    classifier.add(Dropout(0.20))    \n",
    "    \n",
    "    # Adding output layer\n",
    "    classifier.add(Dense(1, kernel_initializer='uniform', activation='sigmoid' ))\n",
    "    \n",
    "    # ANN Compile\n",
    "    classifier.compile(optimizer=optimizer, loss='binary_crossentropy', metrics=['accuracy'])\n",
    "    \n",
    "    return classifier"
   ]
  },
  {
   "cell_type": "code",
   "execution_count": 20,
   "metadata": {},
   "outputs": [],
   "source": [
    "from keras.wrappers.scikit_learn import KerasClassifier\n",
    "from sklearn.model_selection import cross_val_score\n",
    "from sklearn.model_selection import GridSearchCV\n",
    "\n",
    "classifier =  build_classifier('adam')"
   ]
  },
  {
   "cell_type": "code",
   "execution_count": 21,
   "metadata": {},
   "outputs": [
    {
     "data": {
      "text/plain": [
       "<keras.callbacks.History at 0x7fc15c361588>"
      ]
     },
     "execution_count": 21,
     "metadata": {},
     "output_type": "execute_result"
    }
   ],
   "source": [
    "classifier.fit(trainx, trainy, epochs=600, batch_size=60, verbose=0)"
   ]
  },
  {
   "cell_type": "code",
   "execution_count": 26,
   "metadata": {},
   "outputs": [],
   "source": [
    "predy = classifier.predict(testx)"
   ]
  },
  {
   "cell_type": "code",
   "execution_count": 34,
   "metadata": {},
   "outputs": [
    {
     "ename": "AttributeError",
     "evalue": "'numpy.ndarray' object has no attribute 'values'",
     "output_type": "error",
     "traceback": [
      "\u001b[0;31m---------------------------------------------------------------------------\u001b[0m",
      "\u001b[0;31mAttributeError\u001b[0m                            Traceback (most recent call last)",
      "\u001b[0;32m<ipython-input-34-913c4912211b>\u001b[0m in \u001b[0;36m<module>\u001b[0;34m()\u001b[0m\n\u001b[0;32m----> 1\u001b[0;31m \u001b[0mpd\u001b[0m\u001b[0;34m.\u001b[0m\u001b[0mDataFrame\u001b[0m\u001b[0;34m(\u001b[0m\u001b[0;34m{\u001b[0m\u001b[0;34m'testy'\u001b[0m\u001b[0;34m:\u001b[0m\u001b[0mtesty\u001b[0m\u001b[0;34m.\u001b[0m\u001b[0mvalues\u001b[0m\u001b[0;34m,\u001b[0m \u001b[0;34m'predict'\u001b[0m\u001b[0;34m:\u001b[0m\u001b[0mpredy\u001b[0m\u001b[0;34m.\u001b[0m\u001b[0mvalues\u001b[0m\u001b[0;34m}\u001b[0m\u001b[0;34m)\u001b[0m\u001b[0;34m\u001b[0m\u001b[0m\n\u001b[0m",
      "\u001b[0;31mAttributeError\u001b[0m: 'numpy.ndarray' object has no attribute 'values'"
     ]
    }
   ],
   "source": [
    "pd.DataFrame({'testy':testy.values, 'predict':predy.values})"
   ]
  },
  {
   "cell_type": "code",
   "execution_count": 27,
   "metadata": {},
   "outputs": [],
   "source": [
    "predy = (predy > 0.5)"
   ]
  },
  {
   "cell_type": "code",
   "execution_count": 28,
   "metadata": {},
   "outputs": [],
   "source": [
    "from sklearn.metrics import confusion_matrix"
   ]
  },
  {
   "cell_type": "code",
   "execution_count": 29,
   "metadata": {},
   "outputs": [
    {
     "data": {
      "text/plain": [
       "array([[21456,  1848],\n",
       "       [  260,    98]])"
      ]
     },
     "execution_count": 29,
     "metadata": {},
     "output_type": "execute_result"
    }
   ],
   "source": [
    "confusion_matrix(predy, testy)"
   ]
  },
  {
   "cell_type": "code",
   "execution_count": null,
   "metadata": {},
   "outputs": [],
   "source": []
  }
 ],
 "metadata": {
  "kernelspec": {
   "display_name": "Python 3",
   "language": "python",
   "name": "python3"
  },
  "language_info": {
   "codemirror_mode": {
    "name": "ipython",
    "version": 3
   },
   "file_extension": ".py",
   "mimetype": "text/x-python",
   "name": "python",
   "nbconvert_exporter": "python",
   "pygments_lexer": "ipython3",
   "version": "3.6.3"
  }
 },
 "nbformat": 4,
 "nbformat_minor": 2
}
