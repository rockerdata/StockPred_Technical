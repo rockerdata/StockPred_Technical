{
 "cells": [
  {
   "cell_type": "code",
   "execution_count": null,
   "metadata": {},
   "outputs": [],
   "source": [
    "import numpy as np\n",
    "import matplotlib.pyplot as plt\n",
    "import pandas as pd"
   ]
  },
  {
   "cell_type": "code",
   "execution_count": null,
   "metadata": {},
   "outputs": [],
   "source": [
    "%matplotlib inline "
   ]
  },
  {
   "cell_type": "code",
   "execution_count": 3,
   "metadata": {},
   "outputs": [],
   "source": [
    "# Importing the training set\n",
    "dataset_train = pd.read_csv('Stock Market/output.csv')"
   ]
  },
  {
   "cell_type": "code",
   "execution_count": 4,
   "metadata": {},
   "outputs": [],
   "source": [
    "ret = lambda x,y: np.log(y/x) #Log return \n",
    "zscore = lambda x:(x -x.mean())/x.std() # zscore"
   ]
  },
  {
   "cell_type": "code",
   "execution_count": 5,
   "metadata": {},
   "outputs": [],
   "source": [
    "def make_inputs(data):\n",
    "    Res = pd.DataFrame()\n",
    "    Res['c_2_o'] = zscore(ret(data.open.values, data.close.values))\n",
    "    Res['h_2_o'] = zscore(ret(data.open, data.high))\n",
    "    Res['l_2_o'] = zscore(ret(data.open, data.low))\n",
    "    Res['c_2_h'] = zscore(ret(data.high, data.close))\n",
    "    Res['h_2_l'] = zscore(ret(data.low, data.high))\n",
    "    Res['c1_c0'] = ret(data.close, data.close.shift(-1)).fillna(0)\n",
    "    Res['vol'] = zscore(data.volume)\n",
    "    Res['ticker'] = data.sym\n",
    "    Res.index = data.iloc[:,0].values\n",
    "    return Res"
   ]
  },
  {
   "cell_type": "code",
   "execution_count": 6,
   "metadata": {},
   "outputs": [],
   "source": [
    "Res = make_inputs(dataset_train)"
   ]
  },
  {
   "cell_type": "code",
   "execution_count": 319,
   "metadata": {},
   "outputs": [],
   "source": [
    "Res = dataset_train[['close', 'rsi5', 'rsi9','rsi14','macdhist6', 'macd6','macd12', 'macdhist12','sym']]"
   ]
  },
  {
   "cell_type": "code",
   "execution_count": 32,
   "metadata": {},
   "outputs": [
    {
     "data": {
      "text/html": [
       "<div>\n",
       "<style>\n",
       "    .dataframe thead tr:only-child th {\n",
       "        text-align: right;\n",
       "    }\n",
       "\n",
       "    .dataframe thead th {\n",
       "        text-align: left;\n",
       "    }\n",
       "\n",
       "    .dataframe tbody tr th {\n",
       "        vertical-align: top;\n",
       "    }\n",
       "</style>\n",
       "<table border=\"1\" class=\"dataframe\">\n",
       "  <thead>\n",
       "    <tr style=\"text-align: right;\">\n",
       "      <th></th>\n",
       "      <th>Unnamed: 0</th>\n",
       "      <th>rsi14</th>\n",
       "      <th>rsi9</th>\n",
       "      <th>rsi5</th>\n",
       "      <th>macd12</th>\n",
       "      <th>macdhist12</th>\n",
       "      <th>macd6</th>\n",
       "      <th>macdhist6</th>\n",
       "      <th>ema10</th>\n",
       "      <th>ema20</th>\n",
       "      <th>...</th>\n",
       "      <th>arronup7</th>\n",
       "      <th>arrondown13</th>\n",
       "      <th>arronup13</th>\n",
       "      <th>bbindic</th>\n",
       "      <th>close</th>\n",
       "      <th>high</th>\n",
       "      <th>low</th>\n",
       "      <th>open</th>\n",
       "      <th>volume</th>\n",
       "      <th>sym</th>\n",
       "    </tr>\n",
       "  </thead>\n",
       "  <tbody>\n",
       "    <tr>\n",
       "      <th>0</th>\n",
       "      <td>2008-02-06 03:45:00</td>\n",
       "      <td>37.087456</td>\n",
       "      <td>35.387474</td>\n",
       "      <td>34.769877</td>\n",
       "      <td>-11.918355</td>\n",
       "      <td>-0.720816</td>\n",
       "      <td>-6.017640</td>\n",
       "      <td>0.963975</td>\n",
       "      <td>150.694345</td>\n",
       "      <td>160.687525</td>\n",
       "      <td>...</td>\n",
       "      <td>71.428571</td>\n",
       "      <td>15.384615</td>\n",
       "      <td>0.000000</td>\n",
       "      <td>0.281697</td>\n",
       "      <td>143.510803</td>\n",
       "      <td>146.603168</td>\n",
       "      <td>138.623438</td>\n",
       "      <td>142.711058</td>\n",
       "      <td>966300.0</td>\n",
       "      <td>ADANIPORTS.NS</td>\n",
       "    </tr>\n",
       "    <tr>\n",
       "      <th>1</th>\n",
       "      <td>2008-02-07 03:45:00</td>\n",
       "      <td>36.233642</td>\n",
       "      <td>34.008069</td>\n",
       "      <td>31.696320</td>\n",
       "      <td>-11.922653</td>\n",
       "      <td>-0.580091</td>\n",
       "      <td>-6.047231</td>\n",
       "      <td>0.560630</td>\n",
       "      <td>149.024724</td>\n",
       "      <td>158.861230</td>\n",
       "      <td>...</td>\n",
       "      <td>57.142857</td>\n",
       "      <td>7.692308</td>\n",
       "      <td>0.000000</td>\n",
       "      <td>0.273414</td>\n",
       "      <td>141.511429</td>\n",
       "      <td>147.509558</td>\n",
       "      <td>140.756103</td>\n",
       "      <td>146.620947</td>\n",
       "      <td>1064660.0</td>\n",
       "      <td>ADANIPORTS.NS</td>\n",
       "    </tr>\n",
       "    <tr>\n",
       "      <th>2</th>\n",
       "      <td>2008-02-08 03:45:00</td>\n",
       "      <td>35.284951</td>\n",
       "      <td>32.464190</td>\n",
       "      <td>28.304606</td>\n",
       "      <td>-11.963115</td>\n",
       "      <td>-0.496443</td>\n",
       "      <td>-6.128271</td>\n",
       "      <td>0.287754</td>\n",
       "      <td>147.264444</td>\n",
       "      <td>157.002368</td>\n",
       "      <td>...</td>\n",
       "      <td>42.857143</td>\n",
       "      <td>0.000000</td>\n",
       "      <td>15.384615</td>\n",
       "      <td>0.260618</td>\n",
       "      <td>139.343185</td>\n",
       "      <td>147.509528</td>\n",
       "      <td>135.984235</td>\n",
       "      <td>143.955082</td>\n",
       "      <td>1425125.0</td>\n",
       "      <td>ADANIPORTS.NS</td>\n",
       "    </tr>\n",
       "    <tr>\n",
       "      <th>3</th>\n",
       "      <td>2008-02-11 03:45:00</td>\n",
       "      <td>30.200191</td>\n",
       "      <td>24.877477</td>\n",
       "      <td>15.736142</td>\n",
       "      <td>-12.891299</td>\n",
       "      <td>-1.139701</td>\n",
       "      <td>-7.777336</td>\n",
       "      <td>-0.816787</td>\n",
       "      <td>143.470202</td>\n",
       "      <td>154.087487</td>\n",
       "      <td>...</td>\n",
       "      <td>28.571429</td>\n",
       "      <td>100.000000</td>\n",
       "      <td>7.692308</td>\n",
       "      <td>0.102090</td>\n",
       "      <td>126.396111</td>\n",
       "      <td>139.512012</td>\n",
       "      <td>123.517004</td>\n",
       "      <td>139.512012</td>\n",
       "      <td>1119775.0</td>\n",
       "      <td>ADANIPORTS.NS</td>\n",
       "    </tr>\n",
       "    <tr>\n",
       "      <th>4</th>\n",
       "      <td>2008-02-12 03:45:00</td>\n",
       "      <td>28.391773</td>\n",
       "      <td>22.454518</td>\n",
       "      <td>12.816413</td>\n",
       "      <td>-13.895499</td>\n",
       "      <td>-1.715121</td>\n",
       "      <td>-9.228652</td>\n",
       "      <td>-1.360862</td>\n",
       "      <td>139.399660</td>\n",
       "      <td>150.944128</td>\n",
       "      <td>...</td>\n",
       "      <td>14.285714</td>\n",
       "      <td>100.000000</td>\n",
       "      <td>0.000000</td>\n",
       "      <td>0.052893</td>\n",
       "      <td>121.082222</td>\n",
       "      <td>130.617035</td>\n",
       "      <td>116.514759</td>\n",
       "      <td>128.848693</td>\n",
       "      <td>1517045.0</td>\n",
       "      <td>ADANIPORTS.NS</td>\n",
       "    </tr>\n",
       "  </tbody>\n",
       "</table>\n",
       "<p>5 rows × 24 columns</p>\n",
       "</div>"
      ],
      "text/plain": [
       "            Unnamed: 0      rsi14       rsi9       rsi5     macd12  \\\n",
       "0  2008-02-06 03:45:00  37.087456  35.387474  34.769877 -11.918355   \n",
       "1  2008-02-07 03:45:00  36.233642  34.008069  31.696320 -11.922653   \n",
       "2  2008-02-08 03:45:00  35.284951  32.464190  28.304606 -11.963115   \n",
       "3  2008-02-11 03:45:00  30.200191  24.877477  15.736142 -12.891299   \n",
       "4  2008-02-12 03:45:00  28.391773  22.454518  12.816413 -13.895499   \n",
       "\n",
       "   macdhist12     macd6  macdhist6       ema10       ema20      ...        \\\n",
       "0   -0.720816 -6.017640   0.963975  150.694345  160.687525      ...         \n",
       "1   -0.580091 -6.047231   0.560630  149.024724  158.861230      ...         \n",
       "2   -0.496443 -6.128271   0.287754  147.264444  157.002368      ...         \n",
       "3   -1.139701 -7.777336  -0.816787  143.470202  154.087487      ...         \n",
       "4   -1.715121 -9.228652  -1.360862  139.399660  150.944128      ...         \n",
       "\n",
       "    arronup7  arrondown13  arronup13   bbindic       close        high  \\\n",
       "0  71.428571    15.384615   0.000000  0.281697  143.510803  146.603168   \n",
       "1  57.142857     7.692308   0.000000  0.273414  141.511429  147.509558   \n",
       "2  42.857143     0.000000  15.384615  0.260618  139.343185  147.509528   \n",
       "3  28.571429   100.000000   7.692308  0.102090  126.396111  139.512012   \n",
       "4  14.285714   100.000000   0.000000  0.052893  121.082222  130.617035   \n",
       "\n",
       "          low        open     volume            sym  \n",
       "0  138.623438  142.711058   966300.0  ADANIPORTS.NS  \n",
       "1  140.756103  146.620947  1064660.0  ADANIPORTS.NS  \n",
       "2  135.984235  143.955082  1425125.0  ADANIPORTS.NS  \n",
       "3  123.517004  139.512012  1119775.0  ADANIPORTS.NS  \n",
       "4  116.514759  128.848693  1517045.0  ADANIPORTS.NS  \n",
       "\n",
       "[5 rows x 24 columns]"
      ]
     },
     "execution_count": 32,
     "metadata": {},
     "output_type": "execute_result"
    }
   ],
   "source": [
    "dataset_train.head()"
   ]
  },
  {
   "cell_type": "code",
   "execution_count": 9,
   "metadata": {},
   "outputs": [],
   "source": [
    "pivot_column = Res.columns[:-1]\n",
    "P = Res.pivot_table(index=Res.index, columns='ticker', values =pivot_column)"
   ]
  },
  {
   "cell_type": "code",
   "execution_count": 320,
   "metadata": {},
   "outputs": [
    {
     "data": {
      "text/html": [
       "<div>\n",
       "<style>\n",
       "    .dataframe thead tr:only-child th {\n",
       "        text-align: right;\n",
       "    }\n",
       "\n",
       "    .dataframe thead th {\n",
       "        text-align: left;\n",
       "    }\n",
       "\n",
       "    .dataframe tbody tr th {\n",
       "        vertical-align: top;\n",
       "    }\n",
       "</style>\n",
       "<table border=\"1\" class=\"dataframe\">\n",
       "  <thead>\n",
       "    <tr style=\"text-align: right;\">\n",
       "      <th></th>\n",
       "      <th>close</th>\n",
       "      <th>rsi5</th>\n",
       "      <th>rsi9</th>\n",
       "      <th>rsi14</th>\n",
       "      <th>macdhist6</th>\n",
       "      <th>macd6</th>\n",
       "      <th>macd12</th>\n",
       "      <th>macdhist12</th>\n",
       "      <th>sym</th>\n",
       "    </tr>\n",
       "  </thead>\n",
       "  <tbody>\n",
       "    <tr>\n",
       "      <th>0</th>\n",
       "      <td>143.510803</td>\n",
       "      <td>34.769877</td>\n",
       "      <td>35.387474</td>\n",
       "      <td>37.087456</td>\n",
       "      <td>0.963975</td>\n",
       "      <td>-6.017640</td>\n",
       "      <td>-11.918355</td>\n",
       "      <td>-0.720816</td>\n",
       "      <td>ADANIPORTS.NS</td>\n",
       "    </tr>\n",
       "    <tr>\n",
       "      <th>1</th>\n",
       "      <td>141.511429</td>\n",
       "      <td>31.696320</td>\n",
       "      <td>34.008069</td>\n",
       "      <td>36.233642</td>\n",
       "      <td>0.560630</td>\n",
       "      <td>-6.047231</td>\n",
       "      <td>-11.922653</td>\n",
       "      <td>-0.580091</td>\n",
       "      <td>ADANIPORTS.NS</td>\n",
       "    </tr>\n",
       "    <tr>\n",
       "      <th>2</th>\n",
       "      <td>139.343185</td>\n",
       "      <td>28.304606</td>\n",
       "      <td>32.464190</td>\n",
       "      <td>35.284951</td>\n",
       "      <td>0.287754</td>\n",
       "      <td>-6.128271</td>\n",
       "      <td>-11.963115</td>\n",
       "      <td>-0.496443</td>\n",
       "      <td>ADANIPORTS.NS</td>\n",
       "    </tr>\n",
       "    <tr>\n",
       "      <th>3</th>\n",
       "      <td>126.396111</td>\n",
       "      <td>15.736142</td>\n",
       "      <td>24.877477</td>\n",
       "      <td>30.200191</td>\n",
       "      <td>-0.816787</td>\n",
       "      <td>-7.777336</td>\n",
       "      <td>-12.891299</td>\n",
       "      <td>-1.139701</td>\n",
       "      <td>ADANIPORTS.NS</td>\n",
       "    </tr>\n",
       "    <tr>\n",
       "      <th>4</th>\n",
       "      <td>121.082222</td>\n",
       "      <td>12.816413</td>\n",
       "      <td>22.454518</td>\n",
       "      <td>28.391773</td>\n",
       "      <td>-1.360862</td>\n",
       "      <td>-9.228652</td>\n",
       "      <td>-13.895499</td>\n",
       "      <td>-1.715121</td>\n",
       "      <td>ADANIPORTS.NS</td>\n",
       "    </tr>\n",
       "  </tbody>\n",
       "</table>\n",
       "</div>"
      ],
      "text/plain": [
       "        close       rsi5       rsi9      rsi14  macdhist6     macd6  \\\n",
       "0  143.510803  34.769877  35.387474  37.087456   0.963975 -6.017640   \n",
       "1  141.511429  31.696320  34.008069  36.233642   0.560630 -6.047231   \n",
       "2  139.343185  28.304606  32.464190  35.284951   0.287754 -6.128271   \n",
       "3  126.396111  15.736142  24.877477  30.200191  -0.816787 -7.777336   \n",
       "4  121.082222  12.816413  22.454518  28.391773  -1.360862 -9.228652   \n",
       "\n",
       "      macd12  macdhist12            sym  \n",
       "0 -11.918355   -0.720816  ADANIPORTS.NS  \n",
       "1 -11.922653   -0.580091  ADANIPORTS.NS  \n",
       "2 -11.963115   -0.496443  ADANIPORTS.NS  \n",
       "3 -12.891299   -1.139701  ADANIPORTS.NS  \n",
       "4 -13.895499   -1.715121  ADANIPORTS.NS  "
      ]
     },
     "execution_count": 320,
     "metadata": {},
     "output_type": "execute_result"
    }
   ],
   "source": [
    "Res.head()"
   ]
  },
  {
   "cell_type": "code",
   "execution_count": 321,
   "metadata": {},
   "outputs": [],
   "source": [
    "adani_stock = Res[Res.sym == Res.sym[1]]"
   ]
  },
  {
   "cell_type": "code",
   "execution_count": 322,
   "metadata": {},
   "outputs": [
    {
     "name": "stderr",
     "output_type": "stream",
     "text": [
      "/home/rushim245/anaconda2/envs/DeepLearning/lib/python3.6/site-packages/pandas/core/indexing.py:337: SettingWithCopyWarning: \n",
      "A value is trying to be set on a copy of a slice from a DataFrame.\n",
      "Try using .loc[row_indexer,col_indexer] = value instead\n",
      "\n",
      "See the caveats in the documentation: http://pandas.pydata.org/pandas-docs/stable/indexing.html#indexing-view-versus-copy\n",
      "  self.obj[key] = _infer_fill_value(value)\n",
      "/home/rushim245/anaconda2/envs/DeepLearning/lib/python3.6/site-packages/pandas/core/indexing.py:517: SettingWithCopyWarning: \n",
      "A value is trying to be set on a copy of a slice from a DataFrame.\n",
      "Try using .loc[row_indexer,col_indexer] = value instead\n",
      "\n",
      "See the caveats in the documentation: http://pandas.pydata.org/pandas-docs/stable/indexing.html#indexing-view-versus-copy\n",
      "  self.obj[item] = s\n"
     ]
    }
   ],
   "source": [
    "adani_stock.loc[:,'returns'] = adani_stock.close.pct_change()"
   ]
  },
  {
   "cell_type": "code",
   "execution_count": 286,
   "metadata": {},
   "outputs": [],
   "source": [
    "def change(x):\n",
    "    if x > 0.02:\n",
    "        return 2\n",
    "    elif x < -0.02:\n",
    "        return 1\n",
    "    else:\n",
    "        return 0"
   ]
  },
  {
   "cell_type": "code",
   "execution_count": 323,
   "metadata": {},
   "outputs": [
    {
     "name": "stderr",
     "output_type": "stream",
     "text": [
      "/home/rushim245/anaconda2/envs/DeepLearning/lib/python3.6/site-packages/pandas/core/generic.py:3110: SettingWithCopyWarning: \n",
      "A value is trying to be set on a copy of a slice from a DataFrame.\n",
      "Try using .loc[row_indexer,col_indexer] = value instead\n",
      "\n",
      "See the caveats in the documentation: http://pandas.pydata.org/pandas-docs/stable/indexing.html#indexing-view-versus-copy\n",
      "  self[name] = value\n"
     ]
    }
   ],
   "source": [
    "adani_stock.returns = adani_stock.returns.apply(change).shift(-1).fillna(0)"
   ]
  },
  {
   "cell_type": "code",
   "execution_count": 324,
   "metadata": {},
   "outputs": [
    {
     "data": {
      "text/html": [
       "<div>\n",
       "<style>\n",
       "    .dataframe thead tr:only-child th {\n",
       "        text-align: right;\n",
       "    }\n",
       "\n",
       "    .dataframe thead th {\n",
       "        text-align: left;\n",
       "    }\n",
       "\n",
       "    .dataframe tbody tr th {\n",
       "        vertical-align: top;\n",
       "    }\n",
       "</style>\n",
       "<table border=\"1\" class=\"dataframe\">\n",
       "  <thead>\n",
       "    <tr style=\"text-align: right;\">\n",
       "      <th></th>\n",
       "      <th>close</th>\n",
       "      <th>rsi5</th>\n",
       "      <th>rsi9</th>\n",
       "      <th>rsi14</th>\n",
       "      <th>macdhist6</th>\n",
       "      <th>macd6</th>\n",
       "      <th>macd12</th>\n",
       "      <th>macdhist12</th>\n",
       "      <th>sym</th>\n",
       "      <th>returns</th>\n",
       "    </tr>\n",
       "  </thead>\n",
       "  <tbody>\n",
       "    <tr>\n",
       "      <th>0</th>\n",
       "      <td>143.510803</td>\n",
       "      <td>34.769877</td>\n",
       "      <td>35.387474</td>\n",
       "      <td>37.087456</td>\n",
       "      <td>0.963975</td>\n",
       "      <td>-6.017640</td>\n",
       "      <td>-11.918355</td>\n",
       "      <td>-0.720816</td>\n",
       "      <td>ADANIPORTS.NS</td>\n",
       "      <td>0.0</td>\n",
       "    </tr>\n",
       "    <tr>\n",
       "      <th>1</th>\n",
       "      <td>141.511429</td>\n",
       "      <td>31.696320</td>\n",
       "      <td>34.008069</td>\n",
       "      <td>36.233642</td>\n",
       "      <td>0.560630</td>\n",
       "      <td>-6.047231</td>\n",
       "      <td>-11.922653</td>\n",
       "      <td>-0.580091</td>\n",
       "      <td>ADANIPORTS.NS</td>\n",
       "      <td>0.0</td>\n",
       "    </tr>\n",
       "    <tr>\n",
       "      <th>2</th>\n",
       "      <td>139.343185</td>\n",
       "      <td>28.304606</td>\n",
       "      <td>32.464190</td>\n",
       "      <td>35.284951</td>\n",
       "      <td>0.287754</td>\n",
       "      <td>-6.128271</td>\n",
       "      <td>-11.963115</td>\n",
       "      <td>-0.496443</td>\n",
       "      <td>ADANIPORTS.NS</td>\n",
       "      <td>1.0</td>\n",
       "    </tr>\n",
       "    <tr>\n",
       "      <th>3</th>\n",
       "      <td>126.396111</td>\n",
       "      <td>15.736142</td>\n",
       "      <td>24.877477</td>\n",
       "      <td>30.200191</td>\n",
       "      <td>-0.816787</td>\n",
       "      <td>-7.777336</td>\n",
       "      <td>-12.891299</td>\n",
       "      <td>-1.139701</td>\n",
       "      <td>ADANIPORTS.NS</td>\n",
       "      <td>1.0</td>\n",
       "    </tr>\n",
       "    <tr>\n",
       "      <th>4</th>\n",
       "      <td>121.082222</td>\n",
       "      <td>12.816413</td>\n",
       "      <td>22.454518</td>\n",
       "      <td>28.391773</td>\n",
       "      <td>-1.360862</td>\n",
       "      <td>-9.228652</td>\n",
       "      <td>-13.895499</td>\n",
       "      <td>-1.715121</td>\n",
       "      <td>ADANIPORTS.NS</td>\n",
       "      <td>0.0</td>\n",
       "    </tr>\n",
       "  </tbody>\n",
       "</table>\n",
       "</div>"
      ],
      "text/plain": [
       "        close       rsi5       rsi9      rsi14  macdhist6     macd6  \\\n",
       "0  143.510803  34.769877  35.387474  37.087456   0.963975 -6.017640   \n",
       "1  141.511429  31.696320  34.008069  36.233642   0.560630 -6.047231   \n",
       "2  139.343185  28.304606  32.464190  35.284951   0.287754 -6.128271   \n",
       "3  126.396111  15.736142  24.877477  30.200191  -0.816787 -7.777336   \n",
       "4  121.082222  12.816413  22.454518  28.391773  -1.360862 -9.228652   \n",
       "\n",
       "      macd12  macdhist12            sym  returns  \n",
       "0 -11.918355   -0.720816  ADANIPORTS.NS      0.0  \n",
       "1 -11.922653   -0.580091  ADANIPORTS.NS      0.0  \n",
       "2 -11.963115   -0.496443  ADANIPORTS.NS      1.0  \n",
       "3 -12.891299   -1.139701  ADANIPORTS.NS      1.0  \n",
       "4 -13.895499   -1.715121  ADANIPORTS.NS      0.0  "
      ]
     },
     "execution_count": 324,
     "metadata": {},
     "output_type": "execute_result"
    }
   ],
   "source": [
    "adani_stock.head()"
   ]
  },
  {
   "cell_type": "markdown",
   "metadata": {},
   "source": [
    "## Transform data"
   ]
  },
  {
   "cell_type": "code",
   "execution_count": 289,
   "metadata": {},
   "outputs": [],
   "source": [
    "from sklearn.preprocessing import MinMaxScaler\n",
    "scale = MinMaxScaler(feature_range=(0,1))"
   ]
  },
  {
   "cell_type": "code",
   "execution_count": 325,
   "metadata": {},
   "outputs": [],
   "source": [
    "X = scale.fit_transform(adani_stock[['close', 'rsi5', 'rsi9','rsi14','macdhist6', 'macd6','macd12', 'macdhist12']].values)"
   ]
  },
  {
   "cell_type": "code",
   "execution_count": null,
   "metadata": {},
   "outputs": [],
   "source": []
  },
  {
   "cell_type": "code",
   "execution_count": 491,
   "metadata": {},
   "outputs": [
    {
     "name": "stdout",
     "output_type": "stream",
     "text": [
      "AMBUJACEM.NS\n"
     ]
    },
    {
     "name": "stderr",
     "output_type": "stream",
     "text": [
      "/home/rushim245/anaconda2/envs/DeepLearning/lib/python3.6/site-packages/pandas/core/indexing.py:337: SettingWithCopyWarning: \n",
      "A value is trying to be set on a copy of a slice from a DataFrame.\n",
      "Try using .loc[row_indexer,col_indexer] = value instead\n",
      "\n",
      "See the caveats in the documentation: http://pandas.pydata.org/pandas-docs/stable/indexing.html#indexing-view-versus-copy\n",
      "  self.obj[key] = _infer_fill_value(value)\n",
      "/home/rushim245/anaconda2/envs/DeepLearning/lib/python3.6/site-packages/pandas/core/indexing.py:517: SettingWithCopyWarning: \n",
      "A value is trying to be set on a copy of a slice from a DataFrame.\n",
      "Try using .loc[row_indexer,col_indexer] = value instead\n",
      "\n",
      "See the caveats in the documentation: http://pandas.pydata.org/pandas-docs/stable/indexing.html#indexing-view-versus-copy\n",
      "  self.obj[item] = s\n",
      "/home/rushim245/anaconda2/envs/DeepLearning/lib/python3.6/site-packages/pandas/core/generic.py:3110: SettingWithCopyWarning: \n",
      "A value is trying to be set on a copy of a slice from a DataFrame.\n",
      "Try using .loc[row_indexer,col_indexer] = value instead\n",
      "\n",
      "See the caveats in the documentation: http://pandas.pydata.org/pandas-docs/stable/indexing.html#indexing-view-versus-copy\n",
      "  self[name] = value\n"
     ]
    },
    {
     "name": "stdout",
     "output_type": "stream",
     "text": [
      "ASIANPAINT.NS\n",
      "AUROPHARMA.NS\n",
      "AXISBANK.NS\n",
      "BAJFINANCE.NS\n",
      "BPCL.NS\n",
      "BHARTIARTL.NS\n",
      "INFRATEL.NS\n",
      "BOSCHLTD.NS\n",
      "CIPLA.NS\n"
     ]
    }
   ],
   "source": [
    "trainx = []\n",
    "trainy = []\n",
    "testx = []\n",
    "testy = []\n",
    "batch_size = 30\n",
    "for x in range(1,11):\n",
    "    stock = Res[Res.sym == Res.sym[x*2500]]\n",
    "    print(Res.sym[2500*x])\n",
    "    stock.loc[:,'returns'] = stock.close.pct_change()\n",
    "    stock.returns = stock.returns.apply(change).shift(-1).fillna(0)\n",
    "\n",
    "    X = scale.fit_transform(stock[['close', 'rsi5', 'rsi9','rsi14','macdhist6', 'macd6','macd12', 'macdhist12']].values)\n",
    "    train, test = X[:2000], X[2000:]\n",
    "    train_close, test_close = stock.iloc[:2000,9].values, stock.iloc[2000:,9].values\n",
    "    for i in range(batch_size, len(train)):\n",
    "        trainx.append(train[i-batch_size:i])\n",
    "        trainy.append(train_close[i])\n",
    "\n",
    "    for i in range(batch_size, len(test)):\n",
    "        testx.append(test[i-batch_size:i])\n",
    "        testy.append(test_close[i])\n",
    "trainx, trainy = np.array(trainx), np.array(trainy)\n",
    "trainx = np.reshape(trainx, (trainx.shape[0], trainx.shape[1],8))\n",
    "trainy = np.reshape(trainy, (trainy.shape[0],1))\n"
   ]
  },
  {
   "cell_type": "code",
   "execution_count": 493,
   "metadata": {},
   "outputs": [],
   "source": [
    "p = np.random.permutation(len(trainx))"
   ]
  },
  {
   "cell_type": "code",
   "execution_count": 498,
   "metadata": {},
   "outputs": [],
   "source": [
    "trainx = trainx[p]\n",
    "trainy = trainy[p]"
   ]
  },
  {
   "cell_type": "code",
   "execution_count": 499,
   "metadata": {},
   "outputs": [],
   "source": [
    "le = OneHotEncoder(sparse=False)\n",
    "trainy = le.fit_transform(trainy)"
   ]
  },
  {
   "cell_type": "code",
   "execution_count": 500,
   "metadata": {},
   "outputs": [
    {
     "data": {
      "text/plain": [
       "array([ 13307.,   2538.,   3002.])"
      ]
     },
     "execution_count": 500,
     "metadata": {},
     "output_type": "execute_result"
    }
   ],
   "source": [
    "trainy.sum(axis=0)"
   ]
  },
  {
   "cell_type": "markdown",
   "metadata": {},
   "source": [
    "## Split data into Train Test"
   ]
  },
  {
   "cell_type": "code",
   "execution_count": 327,
   "metadata": {},
   "outputs": [],
   "source": [
    "train, test = X[:2000], X[2000:]\n",
    "train_close, test_close = adani_stock.iloc[:2000,9], adani_stock.iloc[2000:,9]"
   ]
  },
  {
   "cell_type": "markdown",
   "metadata": {},
   "source": [
    "## Create batches for LSTM Training"
   ]
  },
  {
   "cell_type": "code",
   "execution_count": 328,
   "metadata": {},
   "outputs": [],
   "source": [
    "trainx = []\n",
    "trainy = []\n",
    "batch_size = 60"
   ]
  },
  {
   "cell_type": "code",
   "execution_count": 329,
   "metadata": {},
   "outputs": [],
   "source": [
    "for i in range(batch_size, len(train)):\n",
    "    trainx.append(train[i-batch_size:i])\n",
    "    trainy.append(train_close[i])\n",
    "trainx, trainy = np.array(trainx), np.array(trainy)"
   ]
  },
  {
   "cell_type": "code",
   "execution_count": 332,
   "metadata": {},
   "outputs": [],
   "source": [
    "trainx = np.reshape(trainx, (trainx.shape[0], trainx.shape[1],8))\n",
    "trainy = np.reshape(trainy, (trainy.shape[0],1))"
   ]
  },
  {
   "cell_type": "code",
   "execution_count": 250,
   "metadata": {},
   "outputs": [],
   "source": [
    "from sklearn.preprocessing import LabelEncoder\n",
    "from sklearn.preprocessing import OneHotEncoder"
   ]
  },
  {
   "cell_type": "code",
   "execution_count": 333,
   "metadata": {},
   "outputs": [],
   "source": []
  },
  {
   "cell_type": "code",
   "execution_count": 334,
   "metadata": {},
   "outputs": [],
   "source": []
  },
  {
   "cell_type": "code",
   "execution_count": 364,
   "metadata": {},
   "outputs": [
    {
     "data": {
      "text/plain": [
       "(1940, 60, 8)"
      ]
     },
     "execution_count": 364,
     "metadata": {},
     "output_type": "execute_result"
    }
   ],
   "source": [
    "trainx.shape"
   ]
  },
  {
   "cell_type": "markdown",
   "metadata": {},
   "source": [
    "## Lets Build RNN on just closing price"
   ]
  },
  {
   "cell_type": "code",
   "execution_count": 479,
   "metadata": {},
   "outputs": [],
   "source": [
    "from keras.models import Sequential\n",
    "from keras.layers import Dense\n",
    "from keras.layers import LSTM\n",
    "from keras.layers import Dropout"
   ]
  },
  {
   "cell_type": "code",
   "execution_count": 505,
   "metadata": {},
   "outputs": [],
   "source": [
    "regressor = Sequential()"
   ]
  },
  {
   "cell_type": "code",
   "execution_count": 506,
   "metadata": {},
   "outputs": [],
   "source": [
    "regressor.add(LSTM(units=256, return_sequences=True, input_shape=(trainx.shape[1], 8)))\n",
    "regressor.add(Dropout(0.2))"
   ]
  },
  {
   "cell_type": "code",
   "execution_count": 507,
   "metadata": {},
   "outputs": [],
   "source": [
    "regressor.add(LSTM(units=128,return_sequences=True))\n",
    "regressor.add(Dropout(0.2))"
   ]
  },
  {
   "cell_type": "code",
   "execution_count": 508,
   "metadata": {},
   "outputs": [],
   "source": [
    "regressor.add(LSTM(units=64))\n",
    "regressor.add(Dropout(0.2))"
   ]
  },
  {
   "cell_type": "code",
   "execution_count": 509,
   "metadata": {},
   "outputs": [],
   "source": [
    "regressor.add(Dense(units=256, activation=\"relu\"))\n",
    "regressor.add(Dropout(0.2))"
   ]
  },
  {
   "cell_type": "code",
   "execution_count": 510,
   "metadata": {},
   "outputs": [],
   "source": [
    "regressor.add(Dense(units=128, activation=\"relu\"))\n",
    "regressor.add(Dropout(0.2))"
   ]
  },
  {
   "cell_type": "code",
   "execution_count": 511,
   "metadata": {},
   "outputs": [],
   "source": [
    "regressor.add(Dense(units=3, activation=\"softmax\"))"
   ]
  },
  {
   "cell_type": "code",
   "execution_count": 512,
   "metadata": {},
   "outputs": [],
   "source": [
    "regressor.compile(optimizer='adam', loss='categorical_crossentropy', metrics=['accuracy'])"
   ]
  },
  {
   "cell_type": "code",
   "execution_count": null,
   "metadata": {},
   "outputs": [
    {
     "name": "stdout",
     "output_type": "stream",
     "text": [
      "Epoch 1/50\n"
     ]
    }
   ],
   "source": [
    "regressor.fit(trainx, trainy, epochs=50, batch_size=100)"
   ]
  },
  {
   "cell_type": "code",
   "execution_count": 381,
   "metadata": {},
   "outputs": [],
   "source": [
    "testx = []\n",
    "testy = []\n",
    "\n",
    "for i in range(batch_size, len(test)):\n",
    "    testx.append(test[i-batch_size:i])\n",
    "    testy.append(test[i][0])\n",
    "testx, testy = np.array(testx), np.array(testy)"
   ]
  },
  {
   "cell_type": "code",
   "execution_count": 382,
   "metadata": {},
   "outputs": [
    {
     "data": {
      "text/plain": [
       "(337, 60, 8)"
      ]
     },
     "execution_count": 382,
     "metadata": {},
     "output_type": "execute_result"
    }
   ],
   "source": [
    "testx.shape"
   ]
  },
  {
   "cell_type": "code",
   "execution_count": 384,
   "metadata": {},
   "outputs": [],
   "source": [
    "testx = np.reshape(testx, (testx.shape[0], testx.shape[1],8))\n",
    "testy = np.reshape(testy, (testy.shape[0],1))"
   ]
  },
  {
   "cell_type": "code",
   "execution_count": 385,
   "metadata": {},
   "outputs": [],
   "source": [
    "test_predict = regressor.predict(testx)"
   ]
  },
  {
   "cell_type": "code",
   "execution_count": 390,
   "metadata": {},
   "outputs": [
    {
     "data": {
      "text/plain": [
       "array([1186,  368,  386])"
      ]
     },
     "execution_count": 390,
     "metadata": {},
     "output_type": "execute_result"
    }
   ],
   "source": [
    "np.sum(trainy > 0.5,axis=0)"
   ]
  },
  {
   "cell_type": "code",
   "execution_count": 135,
   "metadata": {},
   "outputs": [
    {
     "data": {
      "image/png": "[encoded data removed]",
      "text/plain": [
       "<matplotlib.figure.Figure at 0x7ff8cb219f28>"
      ]
     },
     "metadata": {},
     "output_type": "display_data"
    }
   ],
   "source": [
    "# Visualising the results\n",
    "plt.plot(testy, color = 'red', label = 'Real Google Stock Price')\n",
    "plt.plot(test_predict, color = 'blue', label = 'Predicted Google Stock Price')\n",
    "plt.title('Google Stock Price Prediction')\n",
    "plt.xlabel('Time')\n",
    "plt.ylabel('Google Stock Price')\n",
    "plt.legend()\n",
    "plt.show()"
   ]
  },
  {
   "cell_type": "code",
   "execution_count": null,
   "metadata": {},
   "outputs": [],
   "source": []
  },
  {
   "cell_type": "code",
   "execution_count": null,
   "metadata": {},
   "outputs": [],
   "source": []
  },
  {
   "cell_type": "code",
   "execution_count": null,
   "metadata": {},
   "outputs": [],
   "source": []
  },
  {
   "cell_type": "markdown",
   "metadata": {},
   "source": [
    "## Flattening Pivot Table"
   ]
  },
  {
   "cell_type": "code",
   "execution_count": 10,
   "metadata": {},
   "outputs": [],
   "source": [
    "cols = P.columns.tolist()"
   ]
  },
  {
   "cell_type": "code",
   "execution_count": 11,
   "metadata": {},
   "outputs": [],
   "source": [
    "new_ind = pd.Index(e[1]+'_' + e[0] for e in cols)"
   ]
  },
  {
   "cell_type": "code",
   "execution_count": 12,
   "metadata": {},
   "outputs": [],
   "source": [
    "P.columns = new_ind\n",
    "P = P.sort_index(axis=1)"
   ]
  },
  {
   "cell_type": "code",
   "execution_count": 13,
   "metadata": {},
   "outputs": [
    {
     "data": {
      "text/html": [
       "<div>\n",
       "<style>\n",
       "    .dataframe thead tr:only-child th {\n",
       "        text-align: right;\n",
       "    }\n",
       "\n",
       "    .dataframe thead th {\n",
       "        text-align: left;\n",
       "    }\n",
       "\n",
       "    .dataframe tbody tr th {\n",
       "        vertical-align: top;\n",
       "    }\n",
       "</style>\n",
       "<table border=\"1\" class=\"dataframe\">\n",
       "  <thead>\n",
       "    <tr style=\"text-align: right;\">\n",
       "      <th></th>\n",
       "      <th>ADANIPORTS.NS_c1_c0</th>\n",
       "      <th>ADANIPORTS.NS_c_2_h</th>\n",
       "      <th>ADANIPORTS.NS_c_2_o</th>\n",
       "      <th>ADANIPORTS.NS_h_2_l</th>\n",
       "      <th>ADANIPORTS.NS_h_2_o</th>\n",
       "      <th>ADANIPORTS.NS_l_2_o</th>\n",
       "      <th>ADANIPORTS.NS_vol</th>\n",
       "      <th>AMBUJACEM.NS_c1_c0</th>\n",
       "      <th>AMBUJACEM.NS_c_2_h</th>\n",
       "      <th>AMBUJACEM.NS_c_2_o</th>\n",
       "      <th>...</th>\n",
       "      <th>YESBANK.NS_h_2_o</th>\n",
       "      <th>YESBANK.NS_l_2_o</th>\n",
       "      <th>YESBANK.NS_vol</th>\n",
       "      <th>ZEEL.NS_c1_c0</th>\n",
       "      <th>ZEEL.NS_c_2_h</th>\n",
       "      <th>ZEEL.NS_c_2_o</th>\n",
       "      <th>ZEEL.NS_h_2_l</th>\n",
       "      <th>ZEEL.NS_h_2_o</th>\n",
       "      <th>ZEEL.NS_l_2_o</th>\n",
       "      <th>ZEEL.NS_vol</th>\n",
       "    </tr>\n",
       "  </thead>\n",
       "  <tbody>\n",
       "    <tr>\n",
       "      <th>2008-01-22 03:45:00</th>\n",
       "      <td>NaN</td>\n",
       "      <td>NaN</td>\n",
       "      <td>NaN</td>\n",
       "      <td>NaN</td>\n",
       "      <td>NaN</td>\n",
       "      <td>NaN</td>\n",
       "      <td>NaN</td>\n",
       "      <td>0.011106</td>\n",
       "      <td>-2.381650</td>\n",
       "      <td>1.595532</td>\n",
       "      <td>...</td>\n",
       "      <td>5.249603</td>\n",
       "      <td>-5.877647</td>\n",
       "      <td>0.170045</td>\n",
       "      <td>0.066564</td>\n",
       "      <td>-0.895365</td>\n",
       "      <td>-0.636673</td>\n",
       "      <td>4.642381</td>\n",
       "      <td>0.423627</td>\n",
       "      <td>-4.662007</td>\n",
       "      <td>-0.389636</td>\n",
       "    </tr>\n",
       "    <tr>\n",
       "      <th>2008-01-23 03:45:00</th>\n",
       "      <td>NaN</td>\n",
       "      <td>NaN</td>\n",
       "      <td>NaN</td>\n",
       "      <td>NaN</td>\n",
       "      <td>NaN</td>\n",
       "      <td>NaN</td>\n",
       "      <td>NaN</td>\n",
       "      <td>-0.015411</td>\n",
       "      <td>-1.070067</td>\n",
       "      <td>-0.776996</td>\n",
       "      <td>...</td>\n",
       "      <td>4.006957</td>\n",
       "      <td>-0.064936</td>\n",
       "      <td>-0.177220</td>\n",
       "      <td>-0.081241</td>\n",
       "      <td>-0.636567</td>\n",
       "      <td>1.508036</td>\n",
       "      <td>3.113572</td>\n",
       "      <td>4.945790</td>\n",
       "      <td>-1.079627</td>\n",
       "      <td>-0.116845</td>\n",
       "    </tr>\n",
       "    <tr>\n",
       "      <th>2008-01-24 03:45:00</th>\n",
       "      <td>NaN</td>\n",
       "      <td>NaN</td>\n",
       "      <td>NaN</td>\n",
       "      <td>NaN</td>\n",
       "      <td>NaN</td>\n",
       "      <td>NaN</td>\n",
       "      <td>NaN</td>\n",
       "      <td>0.011581</td>\n",
       "      <td>-1.040815</td>\n",
       "      <td>-0.374178</td>\n",
       "      <td>...</td>\n",
       "      <td>-0.910450</td>\n",
       "      <td>-1.510603</td>\n",
       "      <td>-0.042022</td>\n",
       "      <td>0.021939</td>\n",
       "      <td>-1.924919</td>\n",
       "      <td>-2.020222</td>\n",
       "      <td>2.863161</td>\n",
       "      <td>-0.632476</td>\n",
       "      <td>-3.267741</td>\n",
       "      <td>-0.245934</td>\n",
       "    </tr>\n",
       "    <tr>\n",
       "      <th>2008-01-25 03:45:00</th>\n",
       "      <td>NaN</td>\n",
       "      <td>NaN</td>\n",
       "      <td>NaN</td>\n",
       "      <td>NaN</td>\n",
       "      <td>NaN</td>\n",
       "      <td>NaN</td>\n",
       "      <td>NaN</td>\n",
       "      <td>-0.016771</td>\n",
       "      <td>-0.508932</td>\n",
       "      <td>-0.497259</td>\n",
       "      <td>...</td>\n",
       "      <td>3.340702</td>\n",
       "      <td>-0.410627</td>\n",
       "      <td>-0.228155</td>\n",
       "      <td>-0.035251</td>\n",
       "      <td>-1.080985</td>\n",
       "      <td>0.292070</td>\n",
       "      <td>1.742754</td>\n",
       "      <td>3.024191</td>\n",
       "      <td>-0.491926</td>\n",
       "      <td>-0.323180</td>\n",
       "    </tr>\n",
       "    <tr>\n",
       "      <th>2008-01-28 03:45:00</th>\n",
       "      <td>NaN</td>\n",
       "      <td>NaN</td>\n",
       "      <td>NaN</td>\n",
       "      <td>NaN</td>\n",
       "      <td>NaN</td>\n",
       "      <td>NaN</td>\n",
       "      <td>NaN</td>\n",
       "      <td>0.016771</td>\n",
       "      <td>-0.221456</td>\n",
       "      <td>-0.346251</td>\n",
       "      <td>...</td>\n",
       "      <td>3.554781</td>\n",
       "      <td>-0.084200</td>\n",
       "      <td>0.008126</td>\n",
       "      <td>0.032396</td>\n",
       "      <td>-0.367025</td>\n",
       "      <td>-0.718628</td>\n",
       "      <td>0.371551</td>\n",
       "      <td>-0.910450</td>\n",
       "      <td>-0.787822</td>\n",
       "      <td>-0.406104</td>\n",
       "    </tr>\n",
       "  </tbody>\n",
       "</table>\n",
       "<p>5 rows × 329 columns</p>\n",
       "</div>"
      ],
      "text/plain": [
       "                     ADANIPORTS.NS_c1_c0  ADANIPORTS.NS_c_2_h  \\\n",
       "2008-01-22 03:45:00                  NaN                  NaN   \n",
       "2008-01-23 03:45:00                  NaN                  NaN   \n",
       "2008-01-24 03:45:00                  NaN                  NaN   \n",
       "2008-01-25 03:45:00                  NaN                  NaN   \n",
       "2008-01-28 03:45:00                  NaN                  NaN   \n",
       "\n",
       "                     ADANIPORTS.NS_c_2_o  ADANIPORTS.NS_h_2_l  \\\n",
       "2008-01-22 03:45:00                  NaN                  NaN   \n",
       "2008-01-23 03:45:00                  NaN                  NaN   \n",
       "2008-01-24 03:45:00                  NaN                  NaN   \n",
       "2008-01-25 03:45:00                  NaN                  NaN   \n",
       "2008-01-28 03:45:00                  NaN                  NaN   \n",
       "\n",
       "                     ADANIPORTS.NS_h_2_o  ADANIPORTS.NS_l_2_o  \\\n",
       "2008-01-22 03:45:00                  NaN                  NaN   \n",
       "2008-01-23 03:45:00                  NaN                  NaN   \n",
       "2008-01-24 03:45:00                  NaN                  NaN   \n",
       "2008-01-25 03:45:00                  NaN                  NaN   \n",
       "2008-01-28 03:45:00                  NaN                  NaN   \n",
       "\n",
       "                     ADANIPORTS.NS_vol  AMBUJACEM.NS_c1_c0  \\\n",
       "2008-01-22 03:45:00                NaN            0.011106   \n",
       "2008-01-23 03:45:00                NaN           -0.015411   \n",
       "2008-01-24 03:45:00                NaN            0.011581   \n",
       "2008-01-25 03:45:00                NaN           -0.016771   \n",
       "2008-01-28 03:45:00                NaN            0.016771   \n",
       "\n",
       "                     AMBUJACEM.NS_c_2_h  AMBUJACEM.NS_c_2_o     ...       \\\n",
       "2008-01-22 03:45:00           -2.381650            1.595532     ...        \n",
       "2008-01-23 03:45:00           -1.070067           -0.776996     ...        \n",
       "2008-01-24 03:45:00           -1.040815           -0.374178     ...        \n",
       "2008-01-25 03:45:00           -0.508932           -0.497259     ...        \n",
       "2008-01-28 03:45:00           -0.221456           -0.346251     ...        \n",
       "\n",
       "                     YESBANK.NS_h_2_o  YESBANK.NS_l_2_o  YESBANK.NS_vol  \\\n",
       "2008-01-22 03:45:00          5.249603         -5.877647        0.170045   \n",
       "2008-01-23 03:45:00          4.006957         -0.064936       -0.177220   \n",
       "2008-01-24 03:45:00         -0.910450         -1.510603       -0.042022   \n",
       "2008-01-25 03:45:00          3.340702         -0.410627       -0.228155   \n",
       "2008-01-28 03:45:00          3.554781         -0.084200        0.008126   \n",
       "\n",
       "                     ZEEL.NS_c1_c0  ZEEL.NS_c_2_h  ZEEL.NS_c_2_o  \\\n",
       "2008-01-22 03:45:00       0.066564      -0.895365      -0.636673   \n",
       "2008-01-23 03:45:00      -0.081241      -0.636567       1.508036   \n",
       "2008-01-24 03:45:00       0.021939      -1.924919      -2.020222   \n",
       "2008-01-25 03:45:00      -0.035251      -1.080985       0.292070   \n",
       "2008-01-28 03:45:00       0.032396      -0.367025      -0.718628   \n",
       "\n",
       "                     ZEEL.NS_h_2_l  ZEEL.NS_h_2_o  ZEEL.NS_l_2_o  ZEEL.NS_vol  \n",
       "2008-01-22 03:45:00       4.642381       0.423627      -4.662007    -0.389636  \n",
       "2008-01-23 03:45:00       3.113572       4.945790      -1.079627    -0.116845  \n",
       "2008-01-24 03:45:00       2.863161      -0.632476      -3.267741    -0.245934  \n",
       "2008-01-25 03:45:00       1.742754       3.024191      -0.491926    -0.323180  \n",
       "2008-01-28 03:45:00       0.371551      -0.910450      -0.787822    -0.406104  \n",
       "\n",
       "[5 rows x 329 columns]"
      ]
     },
     "execution_count": 13,
     "metadata": {},
     "output_type": "execute_result"
    }
   ],
   "source": [
    "P.head()"
   ]
  },
  {
   "cell_type": "code",
   "execution_count": 14,
   "metadata": {},
   "outputs": [],
   "source": [
    "clean_and_flat = P.bfill()"
   ]
  },
  {
   "cell_type": "code",
   "execution_count": 15,
   "metadata": {},
   "outputs": [],
   "source": [
    "target_cols = list(filter(lambda x: 'c1_c0' in x, clean_and_flat.columns.values))\n",
    "input_cols = list(filter(lambda x: 'c1_c0' not in x, clean_and_flat.columns.values))"
   ]
  },
  {
   "cell_type": "code",
   "execution_count": 16,
   "metadata": {},
   "outputs": [],
   "source": [
    "inputDF = clean_and_flat[input_cols]\n",
    "targetDF = clean_and_flat[target_cols]"
   ]
  },
  {
   "cell_type": "markdown",
   "metadata": {},
   "source": [
    "## Generating Target Columns"
   ]
  },
  {
   "cell_type": "code",
   "execution_count": 17,
   "metadata": {},
   "outputs": [],
   "source": [
    "num_stocks = len(targetDF.columns)"
   ]
  },
  {
   "cell_type": "code",
   "execution_count": 18,
   "metadata": {},
   "outputs": [],
   "source": [
    "TotalReturn = ((1 - np.exp(targetDF)).sum(1))/num_stocks"
   ]
  },
  {
   "cell_type": "code",
   "execution_count": 19,
   "metadata": {},
   "outputs": [],
   "source": [
    "def labeler(x):\n",
    "    if x > 0.0029:\n",
    "        return 1\n",
    "    elif x < -0.00462:\n",
    "        return -1\n",
    "    else:\n",
    "        return 0"
   ]
  },
  {
   "cell_type": "code",
   "execution_count": 20,
   "metadata": {},
   "outputs": [],
   "source": [
    "Labeled = pd.DataFrame()\n",
    "Labeled['return'] = TotalReturn\n",
    "Labeled['class'] = TotalReturn.apply(labeler)\n",
    "Labeled['multi_class'] = pd.qcut(TotalReturn, 11, labels=range(11))"
   ]
  },
  {
   "cell_type": "code",
   "execution_count": 21,
   "metadata": {},
   "outputs": [],
   "source": [
    "def labeler_multi(x):\n",
    "    if x>0.0029:\n",
    "        return 1\n",
    "    if x<-0.00462:\n",
    "        return -1\n",
    "    else:\n",
    "        return 0"
   ]
  },
  {
   "cell_type": "code",
   "execution_count": 22,
   "metadata": {},
   "outputs": [
    {
     "data": {
      "text/plain": [
       "-1    821\n",
       " 1    804\n",
       " 0    786\n",
       "Name: class, dtype: int64"
      ]
     },
     "execution_count": 22,
     "metadata": {},
     "output_type": "execute_result"
    }
   ],
   "source": [
    "Labeled['class'].value_counts()"
   ]
  },
  {
   "cell_type": "code",
   "execution_count": 23,
   "metadata": {},
   "outputs": [],
   "source": [
    "Labeled['actual_return'] = Labeled['class'] * Labeled['return']"
   ]
  },
  {
   "cell_type": "code",
   "execution_count": 24,
   "metadata": {},
   "outputs": [],
   "source": [
    "Labeled[['actual_return','return']].cumsum().plot(subplots=True);"
   ]
  },
  {
   "cell_type": "code",
   "execution_count": 25,
   "metadata": {},
   "outputs": [
    {
     "data": {
      "image/png": "[encoded data removed]",
      "text/plain": [
       "<matplotlib.figure.Figure at 0x7f10692949e8>"
      ]
     },
     "metadata": {},
     "output_type": "display_data"
    }
   ],
   "source": [
    "plt.show()"
   ]
  },
  {
   "cell_type": "markdown",
   "metadata": {},
   "source": [
    "# Logistic Regression"
   ]
  },
  {
   "cell_type": "code",
   "execution_count": 42,
   "metadata": {},
   "outputs": [
    {
     "data": {
      "text/plain": [
       "(2411, 282)"
      ]
     },
     "execution_count": 42,
     "metadata": {},
     "output_type": "execute_result"
    }
   ],
   "source": [
    "inputDF.shape"
   ]
  },
  {
   "cell_type": "code",
   "execution_count": 45,
   "metadata": {},
   "outputs": [],
   "source": [
    "from sklearn import linear_model\n",
    "logreg = linear_model.LogisticRegression(C=1e5)\n",
    "\n",
    "test_size = 500\n",
    "res = logreg.fit(inputDF[:-test_size], Labeled['multi_class'][:-test_size])"
   ]
  },
  {
   "cell_type": "code",
   "execution_count": 49,
   "metadata": {},
   "outputs": [
    {
     "name": "stdout",
     "output_type": "stream",
     "text": [
      "             precision    recall  f1-score   support\n",
      "\n",
      "          0       0.14      0.13      0.13        23\n",
      "          1       0.00      0.00      0.00        42\n",
      "          2       0.08      0.16      0.10        49\n",
      "          3       0.10      0.03      0.05        59\n",
      "          4       0.14      0.17      0.15        60\n",
      "          5       0.04      0.02      0.02        53\n",
      "          6       0.07      0.09      0.08        53\n",
      "          7       0.10      0.24      0.14        51\n",
      "          8       0.09      0.09      0.09        45\n",
      "          9       0.18      0.05      0.08        39\n",
      "         10       0.00      0.00      0.00        26\n",
      "\n",
      "avg / total       0.09      0.09      0.08       500\n",
      "\n",
      "[[ 3  0  5  1  4  3  5  1  1  0  0]\n",
      " [ 0  0 11  3  6  2  7  6  6  0  1]\n",
      " [ 3  1  8  1  4  6  4 18  3  1  0]\n",
      " [ 3  0 11  2 12  3  6 12  5  4  1]\n",
      " [ 3  1 11  2 10  3 11 11  6  2  0]\n",
      " [ 1  1 16  1  7  1  8 13  4  0  1]\n",
      " [ 1  2 10  1  5  5  5 20  4  0  0]\n",
      " [ 4  0  6  2  4  2 10 12  9  1  1]\n",
      " [ 2  0 12  1  8  0  6 11  4  1  0]\n",
      " [ 0  0 10  4  5  1  3 10  2  2  2]\n",
      " [ 2  1  5  2  6  2  2  4  2  0  0]]\n"
     ]
    }
   ],
   "source": [
    "from sklearn.metrics import classification_report, confusion_matrix\n",
    "print(classification_report(Labeled['multi_class'][-test_size:],res.predict(inputDF[-test_size:])))\n",
    "print(confusion_matrix(Labeled['multi_class'][-test_size:], res.predict(inputDF[-test_size:])))"
   ]
  },
  {
   "cell_type": "code",
   "execution_count": 64,
   "metadata": {},
   "outputs": [],
   "source": [
    "N = 10\n",
    "returns = np.zeros((N,100))\n",
    "assets = np.zeros((N,100))\n",
    "\n",
    "R1 = np.random.normal(1.01, 0.03, 100)\n",
    "returns[0] = R1\n",
    "assets[0] = np.cumprod(R1)"
   ]
  },
  {
   "cell_type": "code",
   "execution_count": 65,
   "metadata": {},
   "outputs": [],
   "source": [
    "for i in range(1,N):\n",
    "    Ri = R1 + np.random.normal(0.001, 0.02,100)\n",
    "    returns[i] = Ri\n",
    "    assets[i] = np.cumprod(Ri)\n",
    "    \n",
    "mean_returns = [(np.mean(R) - 1) * 100 for R in returns]\n",
    "return_volatil = [np.std(R) for R in returns]"
   ]
  },
  {
   "cell_type": "code",
   "execution_count": 68,
   "metadata": {},
   "outputs": [
    {
     "data": {
      "text/plain": [
       "Text(0.5,1,'Return for 10 Stocks')"
      ]
     },
     "execution_count": 68,
     "metadata": {},
     "output_type": "execute_result"
    }
   ],
   "source": [
    "plt.bar(np.arange(len(mean_returns)), mean_returns)\n",
    "plt.xlabel('Stocks')\n",
    "plt.ylabel('Returns')\n",
    "plt.title('Return for {} Stocks'.format(N))"
   ]
  },
  {
   "cell_type": "code",
   "execution_count": 69,
   "metadata": {},
   "outputs": [
    {
     "data": {
      "image/png": "[encoded data removed]",
      "text/plain": [
       "<matplotlib.figure.Figure at 0x7f5061301358>"
      ]
     },
     "metadata": {},
     "output_type": "display_data"
    }
   ],
   "source": [
    "plt.show()"
   ]
  },
  {
   "cell_type": "code",
   "execution_count": 70,
   "metadata": {},
   "outputs": [],
   "source": [
    "weights = np.random.uniform(0,1,N)"
   ]
  },
  {
   "cell_type": "code",
   "execution_count": 72,
   "metadata": {},
   "outputs": [],
   "source": [
    "weights = weights / sum(weights)"
   ]
  },
  {
   "cell_type": "code",
   "execution_count": 73,
   "metadata": {},
   "outputs": [
    {
     "data": {
      "text/plain": [
       "array([ 0.01100336,  0.16496121,  0.09808255,  0.05897889,  0.13280323,\n",
       "        0.06952364,  0.177086  ,  0.12382764,  0.03383361,  0.12989987])"
      ]
     },
     "execution_count": 73,
     "metadata": {},
     "output_type": "execute_result"
    }
   ],
   "source": [
    "weights"
   ]
  },
  {
   "cell_type": "code",
   "execution_count": 74,
   "metadata": {},
   "outputs": [
    {
     "data": {
      "text/plain": [
       "1.0"
      ]
     },
     "execution_count": 74,
     "metadata": {},
     "output_type": "execute_result"
    }
   ],
   "source": [
    "sum(weights)"
   ]
  },
  {
   "cell_type": "code",
   "execution_count": null,
   "metadata": {},
   "outputs": [],
   "source": []
  },
  {
   "cell_type": "code",
   "execution_count": null,
   "metadata": {},
   "outputs": [],
   "source": []
  }
 ],
 "metadata": {
  "kernelspec": {
   "display_name": "Python 3",
   "language": "python",
   "name": "python3"
  },
  "language_info": {
   "codemirror_mode": {
    "name": "ipython",
    "version": 3
   },
   "file_extension": ".py",
   "mimetype": "text/x-python",
   "name": "python",
   "nbconvert_exporter": "python",
   "pygments_lexer": "ipython3",
   "version": "3.6.3"
  }
 },
 "nbformat": 4,
 "nbformat_minor": 2
}
